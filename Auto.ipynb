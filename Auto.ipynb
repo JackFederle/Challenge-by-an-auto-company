{
 "cells": [
  {
   "cell_type": "markdown",
   "metadata": {},
   "source": [
    "# Part 1 "
   ]
  },
  {
   "cell_type": "code",
   "execution_count": 2,
   "metadata": {},
   "outputs": [],
   "source": [
    "import pandas as pd\n",
    "import seaborn as sns\n",
    "import matplotlib.pyplot as plt\n",
    "import numpy as np\n",
    "from scipy.stats import mannwhitneyu\n",
    "\n",
    "from sklearn.neighbors import NearestNeighbors\n",
    "\n",
    "import statsmodels.api as sm"
   ]
  },
  {
   "cell_type": "code",
   "execution_count": 3,
   "metadata": {},
   "outputs": [],
   "source": [
    "df = pd.read_csv('/Users/jackfederle/Documents/python/Auto1-DA-TestData.csv', index_col='index')"
   ]
  },
  {
   "cell_type": "markdown",
   "metadata": {},
   "source": [
    "A car cluster is defined by the combination of the variables “country”, “manufacturer”\n",
    "and “fuel_type” (e.g., all BMWs, which have fuel_type Diesel and are sourced in the\n",
    "country USA will belong to the car cluster “China | Skoda | Diesel”). Please always\n",
    "use this logic to define car clusters in your analysis."
   ]
  },
  {
   "cell_type": "markdown",
   "metadata": {},
   "source": [
    "## Question 1\n",
    "Name the fastest selling car cluster in the dataset and compute the average number of days that it takes to sell cars that belong in this cluster."
   ]
  },
  {
   "cell_type": "code",
   "execution_count": 4,
   "metadata": {
    "scrolled": false
   },
   "outputs": [
    {
     "name": "stdout",
     "output_type": "stream",
     "text": [
      "<class 'pandas.core.frame.DataFrame'>\n",
      "Int64Index: 220885 entries, 0 to 224811\n",
      "Data columns (total 8 columns):\n",
      "sourcing_country    220885 non-null object\n",
      "manufacturer        220885 non-null object\n",
      "fuel_type           220885 non-null object\n",
      "buy_price           220885 non-null int64\n",
      "sales_channel       220885 non-null object\n",
      "sold                220885 non-null int64\n",
      "bought_date         220885 non-null object\n",
      "sold_date           208319 non-null object\n",
      "dtypes: int64(2), object(6)\n",
      "memory usage: 15.2+ MB\n"
     ]
    }
   ],
   "source": [
    "df.info()"
   ]
  },
  {
   "cell_type": "code",
   "execution_count": 5,
   "metadata": {},
   "outputs": [
    {
     "data": {
      "text/html": [
       "<div>\n",
       "<style scoped>\n",
       "    .dataframe tbody tr th:only-of-type {\n",
       "        vertical-align: middle;\n",
       "    }\n",
       "\n",
       "    .dataframe tbody tr th {\n",
       "        vertical-align: top;\n",
       "    }\n",
       "\n",
       "    .dataframe thead th {\n",
       "        text-align: right;\n",
       "    }\n",
       "</style>\n",
       "<table border=\"1\" class=\"dataframe\">\n",
       "  <thead>\n",
       "    <tr style=\"text-align: right;\">\n",
       "      <th></th>\n",
       "      <th>sourcing_country</th>\n",
       "      <th>manufacturer</th>\n",
       "      <th>fuel_type</th>\n",
       "      <th>buy_price</th>\n",
       "      <th>sales_channel</th>\n",
       "      <th>sold</th>\n",
       "      <th>bought_date</th>\n",
       "      <th>sold_date</th>\n",
       "      <th>delta</th>\n",
       "    </tr>\n",
       "    <tr>\n",
       "      <th>index</th>\n",
       "      <th></th>\n",
       "      <th></th>\n",
       "      <th></th>\n",
       "      <th></th>\n",
       "      <th></th>\n",
       "      <th></th>\n",
       "      <th></th>\n",
       "      <th></th>\n",
       "      <th></th>\n",
       "    </tr>\n",
       "  </thead>\n",
       "  <tbody>\n",
       "    <tr>\n",
       "      <th>0</th>\n",
       "      <td>USA</td>\n",
       "      <td>Mitsubishi</td>\n",
       "      <td>Diesel</td>\n",
       "      <td>2844</td>\n",
       "      <td>auction_type1</td>\n",
       "      <td>1</td>\n",
       "      <td>2015-04-30 11:52:02</td>\n",
       "      <td>2015-05-09 22:41:50</td>\n",
       "      <td>9.451250</td>\n",
       "    </tr>\n",
       "    <tr>\n",
       "      <th>1</th>\n",
       "      <td>USA</td>\n",
       "      <td>Mitsubishi</td>\n",
       "      <td>Diesel</td>\n",
       "      <td>43404</td>\n",
       "      <td>auction_type2</td>\n",
       "      <td>1</td>\n",
       "      <td>2015-05-23 15:12:53</td>\n",
       "      <td>2015-09-23 17:50:04</td>\n",
       "      <td>123.109155</td>\n",
       "    </tr>\n",
       "    <tr>\n",
       "      <th>2</th>\n",
       "      <td>USA</td>\n",
       "      <td>Peugeot</td>\n",
       "      <td>Diesel</td>\n",
       "      <td>18900</td>\n",
       "      <td>auction_type2</td>\n",
       "      <td>1</td>\n",
       "      <td>2015-02-25 13:15:21</td>\n",
       "      <td>2015-03-08 18:35:06</td>\n",
       "      <td>11.222049</td>\n",
       "    </tr>\n",
       "  </tbody>\n",
       "</table>\n",
       "</div>"
      ],
      "text/plain": [
       "      sourcing_country manufacturer fuel_type  buy_price  sales_channel  sold  \\\n",
       "index                                                                           \n",
       "0                  USA   Mitsubishi    Diesel       2844  auction_type1     1   \n",
       "1                  USA   Mitsubishi    Diesel      43404  auction_type2     1   \n",
       "2                  USA      Peugeot    Diesel      18900  auction_type2     1   \n",
       "\n",
       "              bought_date           sold_date       delta  \n",
       "index                                                      \n",
       "0     2015-04-30 11:52:02 2015-05-09 22:41:50    9.451250  \n",
       "1     2015-05-23 15:12:53 2015-09-23 17:50:04  123.109155  \n",
       "2     2015-02-25 13:15:21 2015-03-08 18:35:06   11.222049  "
      ]
     },
     "execution_count": 5,
     "metadata": {},
     "output_type": "execute_result"
    }
   ],
   "source": [
    "# here a create a field name delta (in seconds) that is the difference between the bought and sold dates\n",
    "df['bought_date'] = pd.to_datetime(df['bought_date'])\n",
    "df['sold_date'] = pd.to_datetime(df['sold_date'])\n",
    "df['delta'] = df['sold_date'] - df['bought_date']\n",
    "df['delta'] = df['delta'].astype('timedelta64[s]')/ 60 / 60 /24\n",
    "df.head(3)"
   ]
  },
  {
   "cell_type": "code",
   "execution_count": 6,
   "metadata": {},
   "outputs": [
    {
     "data": {
      "text/plain": [
       "USA      162079\n",
       "China     58806\n",
       "Name: sourcing_country, dtype: int64"
      ]
     },
     "execution_count": 6,
     "metadata": {},
     "output_type": "execute_result"
    }
   ],
   "source": [
    "df['sourcing_country'].value_counts()"
   ]
  },
  {
   "cell_type": "code",
   "execution_count": 7,
   "metadata": {},
   "outputs": [
    {
     "name": "stdout",
     "output_type": "stream",
     "text": [
      "29\n"
     ]
    }
   ],
   "source": [
    "print(len(df['manufacturer'].value_counts()))"
   ]
  },
  {
   "cell_type": "code",
   "execution_count": 8,
   "metadata": {
    "scrolled": true
   },
   "outputs": [
    {
     "data": {
      "text/plain": [
       "Diesel    220885\n",
       "Name: fuel_type, dtype: int64"
      ]
     },
     "execution_count": 8,
     "metadata": {},
     "output_type": "execute_result"
    }
   ],
   "source": [
    "df['fuel_type'].value_counts()"
   ]
  },
  {
   "cell_type": "markdown",
   "metadata": {},
   "source": [
    "Interesting to notice that all cars in this dataset are Diesel, from here on, I will focus solely on the sourcing country and the manufacturer "
   ]
  },
  {
   "cell_type": "code",
   "execution_count": 9,
   "metadata": {},
   "outputs": [
    {
     "data": {
      "text/plain": [
       "1    208319\n",
       "0     12566\n",
       "Name: sold, dtype: int64"
      ]
     },
     "execution_count": 9,
     "metadata": {},
     "output_type": "execute_result"
    }
   ],
   "source": [
    "df['sold'].value_counts()"
   ]
  },
  {
   "cell_type": "code",
   "execution_count": 10,
   "metadata": {},
   "outputs": [
    {
     "data": {
      "text/html": [
       "<div>\n",
       "<style scoped>\n",
       "    .dataframe tbody tr th:only-of-type {\n",
       "        vertical-align: middle;\n",
       "    }\n",
       "\n",
       "    .dataframe tbody tr th {\n",
       "        vertical-align: top;\n",
       "    }\n",
       "\n",
       "    .dataframe thead th {\n",
       "        text-align: right;\n",
       "    }\n",
       "</style>\n",
       "<table border=\"1\" class=\"dataframe\">\n",
       "  <thead>\n",
       "    <tr style=\"text-align: right;\">\n",
       "      <th></th>\n",
       "      <th>sourcing_country</th>\n",
       "      <th>manufacturer</th>\n",
       "      <th>delta</th>\n",
       "    </tr>\n",
       "  </thead>\n",
       "  <tbody>\n",
       "    <tr>\n",
       "      <th>50</th>\n",
       "      <td>USA</td>\n",
       "      <td>Skoda</td>\n",
       "      <td>16.253453</td>\n",
       "    </tr>\n",
       "  </tbody>\n",
       "</table>\n",
       "</div>"
      ],
      "text/plain": [
       "   sourcing_country manufacturer      delta\n",
       "50              USA        Skoda  16.253453"
      ]
     },
     "execution_count": 10,
     "metadata": {},
     "output_type": "execute_result"
    }
   ],
   "source": [
    "# Here I group by sourcing country and manufacter so to have the clusters, I average the delta and sort the resulting dataframe\n",
    "q1 = df.groupby(['sourcing_country', 'manufacturer'])['delta'].mean()\n",
    "q1 = q1.reset_index(drop=False)\n",
    "q1 = q1.sort_values(by = 'delta', ascending = True)\n",
    "q1.head(1)"
   ]
  },
  {
   "cell_type": "markdown",
   "metadata": {},
   "source": [
    "The fastest selling cluster is Diesel | Skoda | USA with an average delta of 16.25 days days"
   ]
  },
  {
   "cell_type": "markdown",
   "metadata": {},
   "source": [
    "## Question 2 "
   ]
  },
  {
   "cell_type": "markdown",
   "metadata": {},
   "source": [
    "Is the cluster that you identified under 1a) selling significantly faster than the\n",
    "“USA | Maserati | Diesel” cluster? Please explain how you reached this conclusion.\n",
    "\n",
    "As first step I take a look at the distributions and at the means. Then I will decide how to proceed "
   ]
  },
  {
   "cell_type": "code",
   "execution_count": 221,
   "metadata": {},
   "outputs": [
    {
     "data": {
      "text/html": [
       "<div>\n",
       "<style scoped>\n",
       "    .dataframe tbody tr th:only-of-type {\n",
       "        vertical-align: middle;\n",
       "    }\n",
       "\n",
       "    .dataframe tbody tr th {\n",
       "        vertical-align: top;\n",
       "    }\n",
       "\n",
       "    .dataframe thead th {\n",
       "        text-align: right;\n",
       "    }\n",
       "</style>\n",
       "<table border=\"1\" class=\"dataframe\">\n",
       "  <thead>\n",
       "    <tr style=\"text-align: right;\">\n",
       "      <th></th>\n",
       "      <th>sourcing_country</th>\n",
       "      <th>manufacturer</th>\n",
       "      <th>delta</th>\n",
       "    </tr>\n",
       "  </thead>\n",
       "  <tbody>\n",
       "    <tr>\n",
       "      <th>39</th>\n",
       "      <td>USA</td>\n",
       "      <td>Maserati</td>\n",
       "      <td>2.051806e+06</td>\n",
       "    </tr>\n",
       "    <tr>\n",
       "      <th>10</th>\n",
       "      <td>China</td>\n",
       "      <td>Maserati</td>\n",
       "      <td>2.882262e+06</td>\n",
       "    </tr>\n",
       "  </tbody>\n",
       "</table>\n",
       "</div>"
      ],
      "text/plain": [
       "   sourcing_country manufacturer         delta\n",
       "39              USA     Maserati  2.051806e+06\n",
       "10            China     Maserati  2.882262e+06"
      ]
     },
     "execution_count": 221,
     "metadata": {},
     "output_type": "execute_result"
    }
   ],
   "source": [
    "q1.loc[q1['manufacturer'] == 'Maserati']"
   ]
  },
  {
   "cell_type": "code",
   "execution_count": 222,
   "metadata": {},
   "outputs": [
    {
     "name": "stdout",
     "output_type": "stream",
     "text": [
      "1404298.3176470587 2239024.014594588\n"
     ]
    },
    {
     "data": {
      "image/png": "[encoded data removed]",
      "text/plain": [
       "<Figure size 432x288 with 1 Axes>"
      ]
     },
     "metadata": {},
     "output_type": "display_data"
    }
   ],
   "source": [
    "skoda = df.loc[df['manufacturer'] == 'Skoda']\n",
    "skoda = skoda.loc[skoda['sourcing_country'] == 'USA']\n",
    "skoda['delta'].hist(color = 'teal')\n",
    "print(skoda['delta'].mean(), skoda['delta'].std())"
   ]
  },
  {
   "cell_type": "markdown",
   "metadata": {},
   "source": [
    "### Log transformation "
   ]
  },
  {
   "cell_type": "code",
   "execution_count": 223,
   "metadata": {
    "scrolled": true
   },
   "outputs": [
    {
     "data": {
      "text/plain": [
       "<matplotlib.axes._subplots.AxesSubplot at 0x1c345b0588>"
      ]
     },
     "execution_count": 223,
     "metadata": {},
     "output_type": "execute_result"
    },
    {
     "data": {
      "image/png": "[encoded data removed]",
      "text/plain": [
       "<Figure size 432x288 with 1 Axes>"
      ]
     },
     "metadata": {},
     "output_type": "display_data"
    }
   ],
   "source": [
    "log_skoda = np.log(skoda['delta'] + 1)\n",
    "log_skoda.hist(color = 'teal')"
   ]
  },
  {
   "cell_type": "code",
   "execution_count": 224,
   "metadata": {},
   "outputs": [
    {
     "name": "stdout",
     "output_type": "stream",
     "text": [
      "Mean: 13.66, median: 13.45\n"
     ]
    }
   ],
   "source": [
    "print('Mean: %.2f, median: %.2f' % (log_skoda.mean(), log_skoda.median()))"
   ]
  },
  {
   "cell_type": "markdown",
   "metadata": {},
   "source": [
    "I cannot assume normality. I tried to normalize the data with a logarithmic transformation but I was not too happy with the outcome. "
   ]
  },
  {
   "cell_type": "code",
   "execution_count": 225,
   "metadata": {
    "scrolled": false
   },
   "outputs": [
    {
     "name": "stdout",
     "output_type": "stream",
     "text": [
      "2051806.4359203093 2784138.6825338057\n"
     ]
    },
    {
     "data": {
      "image/png": "[encoded data removed]",
      "text/plain": [
       "<Figure size 432x288 with 1 Axes>"
      ]
     },
     "metadata": {},
     "output_type": "display_data"
    }
   ],
   "source": [
    "maserati = df.loc[df['manufacturer'] == 'Maserati']\n",
    "maserati = maserati.loc[maserati['sourcing_country'] == 'USA']\n",
    "maserati['delta'].hist(color = 'lightblue')\n",
    "print(maserati['delta'].mean(), maserati['delta'].std())"
   ]
  },
  {
   "cell_type": "markdown",
   "metadata": {},
   "source": [
    "As for Skoda, the Maserati distribution is not normal. To compare the two **MEDIANS** and verify if the difference is significant, I will use a non parametric test, the Mann Whitney U test"
   ]
  },
  {
   "cell_type": "code",
   "execution_count": 226,
   "metadata": {},
   "outputs": [
    {
     "name": "stdout",
     "output_type": "stream",
     "text": [
      "test statistics = 124609.000, p = 0.001\n",
      "difference is significant\n"
     ]
    }
   ],
   "source": [
    "stat1, p = mannwhitneyu(maserati['delta'], skoda['delta'])\n",
    "print('test statistics = %.3f, p = %.3f' % (stat1, p))\n",
    "\n",
    "alpha = 0.05\n",
    "if p > alpha:\n",
    "    print('difference not significant')\n",
    "else:\n",
    "    print('difference is significant')"
   ]
  },
  {
   "cell_type": "markdown",
   "metadata": {},
   "source": [
    "With samples this large, the value of U approaches a normal distribution. It is possible to test our hypothesis with a z-test "
   ]
  },
  {
   "cell_type": "code",
   "execution_count": 227,
   "metadata": {},
   "outputs": [],
   "source": [
    "def z (stat, sample1, sample2):\n",
    "    n1 = len(sample1)\n",
    "    n2 = len(sample2)\n",
    "    stdev = np.sqrt((n1 * n2 * (n1 + n2 + 1))/12)\n",
    "    z = (stat - (n1 * n2)/ 2)/ stdev\n",
    "    return z"
   ]
  },
  {
   "cell_type": "code",
   "execution_count": 228,
   "metadata": {},
   "outputs": [
    {
     "data": {
      "text/plain": [
       "-2.9934073469682203"
      ]
     },
     "execution_count": 228,
     "metadata": {},
     "output_type": "execute_result"
    }
   ],
   "source": [
    "z(stat1, maserati['delta'], skoda['delta'])"
   ]
  },
  {
   "cell_type": "code",
   "execution_count": 229,
   "metadata": {},
   "outputs": [
    {
     "name": "stdout",
     "output_type": "stream",
     "text": [
      "Maserati delta 10.98, Skoda delta 8.057303\n"
     ]
    }
   ],
   "source": [
    "print('Maserati delta %.2f, Skoda delta %2f' % (maserati['delta'].median()/ 60 / 60 /24, skoda['delta'].median()/ 60 / 60 /24))"
   ]
  },
  {
   "cell_type": "markdown",
   "metadata": {},
   "source": [
    "### Question 3 "
   ]
  },
  {
   "cell_type": "markdown",
   "metadata": {},
   "source": [
    "In order to measure the sale speed of different car clusters, let’s focus on a KPI that captures the percentage of cars that are sold within 100 days. Name the car cluster that performs worst in terms of this KPI. Please comment briefly on any additional calculations that you might have to come up with the solution. "
   ]
  },
  {
   "cell_type": "code",
   "execution_count": 230,
   "metadata": {},
   "outputs": [
    {
     "data": {
      "text/html": [
       "<div>\n",
       "<style scoped>\n",
       "    .dataframe tbody tr th:only-of-type {\n",
       "        vertical-align: middle;\n",
       "    }\n",
       "\n",
       "    .dataframe tbody tr th {\n",
       "        vertical-align: top;\n",
       "    }\n",
       "\n",
       "    .dataframe thead th {\n",
       "        text-align: right;\n",
       "    }\n",
       "</style>\n",
       "<table border=\"1\" class=\"dataframe\">\n",
       "  <thead>\n",
       "    <tr style=\"text-align: right;\">\n",
       "      <th></th>\n",
       "      <th>sourcing_country</th>\n",
       "      <th>manufacturer</th>\n",
       "      <th>fuel_type</th>\n",
       "      <th>buy_price</th>\n",
       "      <th>sales_channel</th>\n",
       "      <th>sold</th>\n",
       "      <th>bought_date</th>\n",
       "      <th>sold_date</th>\n",
       "      <th>delta</th>\n",
       "    </tr>\n",
       "    <tr>\n",
       "      <th>index</th>\n",
       "      <th></th>\n",
       "      <th></th>\n",
       "      <th></th>\n",
       "      <th></th>\n",
       "      <th></th>\n",
       "      <th></th>\n",
       "      <th></th>\n",
       "      <th></th>\n",
       "      <th></th>\n",
       "    </tr>\n",
       "  </thead>\n",
       "  <tbody>\n",
       "    <tr>\n",
       "      <th>0</th>\n",
       "      <td>USA</td>\n",
       "      <td>Mitsubishi</td>\n",
       "      <td>Diesel</td>\n",
       "      <td>2844</td>\n",
       "      <td>auction_type1</td>\n",
       "      <td>1</td>\n",
       "      <td>2015-04-30 11:52:02</td>\n",
       "      <td>2015-05-09 22:41:50</td>\n",
       "      <td>816588.0</td>\n",
       "    </tr>\n",
       "    <tr>\n",
       "      <th>1</th>\n",
       "      <td>USA</td>\n",
       "      <td>Mitsubishi</td>\n",
       "      <td>Diesel</td>\n",
       "      <td>43404</td>\n",
       "      <td>auction_type2</td>\n",
       "      <td>1</td>\n",
       "      <td>2015-05-23 15:12:53</td>\n",
       "      <td>2015-09-23 17:50:04</td>\n",
       "      <td>10636631.0</td>\n",
       "    </tr>\n",
       "  </tbody>\n",
       "</table>\n",
       "</div>"
      ],
      "text/plain": [
       "      sourcing_country manufacturer fuel_type  buy_price  sales_channel  sold  \\\n",
       "index                                                                           \n",
       "0                  USA   Mitsubishi    Diesel       2844  auction_type1     1   \n",
       "1                  USA   Mitsubishi    Diesel      43404  auction_type2     1   \n",
       "\n",
       "              bought_date           sold_date       delta  \n",
       "index                                                      \n",
       "0     2015-04-30 11:52:02 2015-05-09 22:41:50    816588.0  \n",
       "1     2015-05-23 15:12:53 2015-09-23 17:50:04  10636631.0  "
      ]
     },
     "execution_count": 230,
     "metadata": {},
     "output_type": "execute_result"
    }
   ],
   "source": [
    "df.head(2)"
   ]
  },
  {
   "cell_type": "code",
   "execution_count": 231,
   "metadata": {},
   "outputs": [
    {
     "data": {
      "text/html": [
       "<div>\n",
       "<style scoped>\n",
       "    .dataframe tbody tr th:only-of-type {\n",
       "        vertical-align: middle;\n",
       "    }\n",
       "\n",
       "    .dataframe tbody tr th {\n",
       "        vertical-align: top;\n",
       "    }\n",
       "\n",
       "    .dataframe thead th {\n",
       "        text-align: right;\n",
       "    }\n",
       "</style>\n",
       "<table border=\"1\" class=\"dataframe\">\n",
       "  <thead>\n",
       "    <tr style=\"text-align: right;\">\n",
       "      <th></th>\n",
       "      <th></th>\n",
       "      <th>buy_price</th>\n",
       "      <th>sold</th>\n",
       "      <th>delta</th>\n",
       "      <th>within100</th>\n",
       "      <th>KPI</th>\n",
       "    </tr>\n",
       "    <tr>\n",
       "      <th>sourcing_country</th>\n",
       "      <th>manufacturer</th>\n",
       "      <th></th>\n",
       "      <th></th>\n",
       "      <th></th>\n",
       "      <th></th>\n",
       "      <th></th>\n",
       "    </tr>\n",
       "  </thead>\n",
       "  <tbody>\n",
       "    <tr>\n",
       "      <th>China</th>\n",
       "      <th>Tata</th>\n",
       "      <td>244581</td>\n",
       "      <td>28</td>\n",
       "      <td>124059354.0</td>\n",
       "      <td>21.0</td>\n",
       "      <td>0.75</td>\n",
       "    </tr>\n",
       "  </tbody>\n",
       "</table>\n",
       "</div>"
      ],
      "text/plain": [
       "                               buy_price  sold        delta  within100   KPI\n",
       "sourcing_country manufacturer                                               \n",
       "China            Tata             244581    28  124059354.0       21.0  0.75"
      ]
     },
     "execution_count": 231,
     "metadata": {},
     "output_type": "execute_result"
    }
   ],
   "source": [
    "benchmark = 100 * 24 * 60 * 60 # seconds in 100 days\n",
    "df['within100'] = df['delta'] < benchmark\n",
    "df3 = df.groupby(['sourcing_country', 'manufacturer']).sum()\n",
    "df3['KPI'] = df3['within100']/df3['sold']\n",
    "df3 = df3.sort_values(by = 'KPI')\n",
    "df3.head(1)"
   ]
  },
  {
   "cell_type": "markdown",
   "metadata": {},
   "source": [
    "Now I want to see which is the cluster that sells the least"
   ]
  },
  {
   "cell_type": "code",
   "execution_count": 232,
   "metadata": {},
   "outputs": [
    {
     "data": {
      "text/html": [
       "<div>\n",
       "<style scoped>\n",
       "    .dataframe tbody tr th:only-of-type {\n",
       "        vertical-align: middle;\n",
       "    }\n",
       "\n",
       "    .dataframe tbody tr th {\n",
       "        vertical-align: top;\n",
       "    }\n",
       "\n",
       "    .dataframe thead tr th {\n",
       "        text-align: left;\n",
       "    }\n",
       "\n",
       "    .dataframe thead tr:last-of-type th {\n",
       "        text-align: right;\n",
       "    }\n",
       "</style>\n",
       "<table border=\"1\" class=\"dataframe\">\n",
       "  <thead>\n",
       "    <tr>\n",
       "      <th></th>\n",
       "      <th></th>\n",
       "      <th colspan=\"2\" halign=\"left\">buy_price</th>\n",
       "      <th colspan=\"2\" halign=\"left\">within100</th>\n",
       "      <th>KPI2</th>\n",
       "    </tr>\n",
       "    <tr>\n",
       "      <th></th>\n",
       "      <th></th>\n",
       "      <th>sum</th>\n",
       "      <th>count</th>\n",
       "      <th>sum</th>\n",
       "      <th>count</th>\n",
       "      <th></th>\n",
       "    </tr>\n",
       "    <tr>\n",
       "      <th>sourcing_country</th>\n",
       "      <th>manufacturer</th>\n",
       "      <th></th>\n",
       "      <th></th>\n",
       "      <th></th>\n",
       "      <th></th>\n",
       "      <th></th>\n",
       "    </tr>\n",
       "  </thead>\n",
       "  <tbody>\n",
       "    <tr>\n",
       "      <th>China</th>\n",
       "      <th>Mitsubishi</th>\n",
       "      <td>65926653</td>\n",
       "      <td>2636</td>\n",
       "      <td>983.0</td>\n",
       "      <td>2636</td>\n",
       "      <td>0.372914</td>\n",
       "    </tr>\n",
       "  </tbody>\n",
       "</table>\n",
       "</div>"
      ],
      "text/plain": [
       "                              buy_price       within100            KPI2\n",
       "                                    sum count       sum count          \n",
       "sourcing_country manufacturer                                          \n",
       "China            Mitsubishi    65926653  2636     983.0  2636  0.372914"
      ]
     },
     "execution_count": 232,
     "metadata": {},
     "output_type": "execute_result"
    }
   ],
   "source": [
    "df4 = df.groupby(['sourcing_country', 'manufacturer'])['buy_price', 'within100'].agg(['sum', 'count'])\n",
    "df4['KPI2'] = df4.xs(('within100', 'sum'), axis = 1)/df4.xs(('buy_price', 'count'), axis = 1)\n",
    "df4 = df4.sort_values(by = 'KPI2')\n",
    "df4.head(1)"
   ]
  },
  {
   "cell_type": "markdown",
   "metadata": {},
   "source": [
    "# Part 2 "
   ]
  },
  {
   "cell_type": "markdown",
   "metadata": {},
   "source": [
    "## Question 1\n",
    "Our company currently uses different channels to sell cars. The different sales channels are named \"auction_type1\" and \"auction_type2\" in the provided dataset. Can you find out whether selling cars through auction_type1 causes a decrease in the sale speed (compared to selling cars through auction_type2)?"
   ]
  },
  {
   "cell_type": "code",
   "execution_count": 233,
   "metadata": {},
   "outputs": [
    {
     "data": {
      "text/plain": [
       "sales_channel\n",
       "auction_type1    2.220783e+06\n",
       "auction_type2    2.599180e+06\n",
       "Name: delta, dtype: float64"
      ]
     },
     "execution_count": 233,
     "metadata": {},
     "output_type": "execute_result"
    }
   ],
   "source": [
    "df.groupby('sales_channel')['delta'].mean()"
   ]
  },
  {
   "cell_type": "code",
   "execution_count": 234,
   "metadata": {},
   "outputs": [
    {
     "data": {
      "text/plain": [
       "sales_channel\n",
       "auction_type1     802411.0\n",
       "auction_type2    1132744.0\n",
       "Name: delta, dtype: float64"
      ]
     },
     "execution_count": 234,
     "metadata": {},
     "output_type": "execute_result"
    }
   ],
   "source": [
    "df.groupby('sales_channel')['delta'].median()"
   ]
  },
  {
   "cell_type": "code",
   "execution_count": 235,
   "metadata": {},
   "outputs": [
    {
     "data": {
      "text/plain": [
       "sales_channel\n",
       "auction_type1     5797.374665\n",
       "auction_type2    24397.416025\n",
       "Name: buy_price, dtype: float64"
      ]
     },
     "execution_count": 235,
     "metadata": {},
     "output_type": "execute_result"
    }
   ],
   "source": [
    "df.groupby('sales_channel')['buy_price'].mean()"
   ]
  },
  {
   "cell_type": "code",
   "execution_count": 236,
   "metadata": {},
   "outputs": [
    {
     "data": {
      "text/plain": [
       "sales_channel\n",
       "auction_type1    110584\n",
       "auction_type2    110301\n",
       "Name: sold, dtype: int64"
      ]
     },
     "execution_count": 236,
     "metadata": {},
     "output_type": "execute_result"
    }
   ],
   "source": [
    "df.groupby('sales_channel')['sold'].count()"
   ]
  },
  {
   "cell_type": "markdown",
   "metadata": {},
   "source": [
    "While the number of cars sold through each channel is comparable, there is clearly a difference in speed and price "
   ]
  },
  {
   "cell_type": "code",
   "execution_count": 237,
   "metadata": {},
   "outputs": [
    {
     "data": {
      "image/png": "[encoded data removed]",
      "text/plain": [
       "<Figure size 432x288 with 1 Axes>"
      ]
     },
     "metadata": {},
     "output_type": "display_data"
    }
   ],
   "source": [
    "ax = sns.boxplot(y=\"delta\", x=\"sales_channel\", data=df, palette = 'hls', fliersize = False)"
   ]
  },
  {
   "cell_type": "code",
   "execution_count": 238,
   "metadata": {},
   "outputs": [],
   "source": [
    "t1 = df[df['sales_channel'] == 'auction_type1']\n",
    "t2 = df[df['sales_channel'] == 'auction_type2']"
   ]
  },
  {
   "cell_type": "code",
   "execution_count": 239,
   "metadata": {
    "scrolled": false
   },
   "outputs": [
    {
     "data": {
      "text/plain": [
       "<matplotlib.axes._subplots.AxesSubplot at 0x1a0e7799e8>"
      ]
     },
     "execution_count": 239,
     "metadata": {},
     "output_type": "execute_result"
    },
    {
     "data": {
      "image/png": "[encoded data removed]",
      "text/plain": [
       "<Figure size 432x288 with 1 Axes>"
      ]
     },
     "metadata": {},
     "output_type": "display_data"
    }
   ],
   "source": [
    "t1['delta'].hist(alpha = 0.5, bins = 15, color = 'firebrick')\n",
    "t2['delta'].hist(alpha = 0.5, bins = 15, color = 'c')"
   ]
  },
  {
   "cell_type": "code",
   "execution_count": 240,
   "metadata": {
    "scrolled": true
   },
   "outputs": [
    {
     "name": "stdout",
     "output_type": "stream",
     "text": [
      "Median of auction type 1 802411.00, median of auctrion type 2 1132744.00\n"
     ]
    }
   ],
   "source": [
    "print('Median of auction type 1 %.2f, median of auctrion type 2 %.2f' % (t1['delta'].median(), t2['delta'].median()))"
   ]
  },
  {
   "cell_type": "markdown",
   "metadata": {},
   "source": [
    "The two distributions are again not normal, so I will relay on the same test as before"
   ]
  },
  {
   "cell_type": "code",
   "execution_count": 241,
   "metadata": {},
   "outputs": [
    {
     "name": "stdout",
     "output_type": "stream",
     "text": [
      "test statistics = 5236511026.000, p = 0.000\n",
      "difference is significant\n"
     ]
    }
   ],
   "source": [
    "stat2, p = mannwhitneyu(t1['delta'], t2['delta'])\n",
    "print('test statistics = %.3f, p = %.3f' % (stat2, p))\n",
    "\n",
    "alpha = 0.05\n",
    "if p > alpha:\n",
    "    print('difference not significant')\n",
    "else:\n",
    "    print('difference is significant')"
   ]
  },
  {
   "cell_type": "code",
   "execution_count": 242,
   "metadata": {},
   "outputs": [
    {
     "data": {
      "text/plain": [
       "-57.54462949431563"
      ]
     },
     "execution_count": 242,
     "metadata": {},
     "output_type": "execute_result"
    }
   ],
   "source": [
    "z(stat2, t1['delta'], t2['delta'])"
   ]
  },
  {
   "cell_type": "markdown",
   "metadata": {},
   "source": [
    "The difference between the two medians is significant, however at this point it is not clear whether the auction type is the cause of the difference, of if cheaper cars sell faster. Next I will control for the price variable and verify how big of a factor the auction type is. To be finished. "
   ]
  }
 ],
 "metadata": {
  "kernelspec": {
   "display_name": "Python [conda env:anaconda3]",
   "language": "python",
   "name": "conda-env-anaconda3-py"
  },
  "language_info": {
   "codemirror_mode": {
    "name": "ipython",
    "version": 3
   },
   "file_extension": ".py",
   "mimetype": "text/x-python",
   "name": "python",
   "nbconvert_exporter": "python",
   "pygments_lexer": "ipython3",
   "version": "3.6.5"
  }
 },
 "nbformat": 4,
 "nbformat_minor": 2
}
